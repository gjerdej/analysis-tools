{
 "cells": [
  {
   "cell_type": "code",
   "execution_count": 73,
   "id": "0dffddd9",
   "metadata": {},
   "outputs": [],
   "source": [
    "def comsoltopy(filename,fields=[],params=[],params2=[]):\n",
    "    import numpy as np\n",
    "    import os\n",
    "\n",
    "    with open(os.path.join(os.getcwd(),filename)) as f:\n",
    "        data = f.readlines()\n",
    "\n",
    "    nfields = int(data[5].split(',')[1].strip('\\n'))\n",
    "    ncols = len(data[7].split(','))\n",
    "\n",
    "    nsweeps = ncols - nfields - 1\n",
    "    \n",
    "    if nsweeps == 0:\n",
    "        #nfields = len(data[7].split(',')[1:])\n",
    "        \n",
    "        if fields==[]:\n",
    "            fields = [field.split('(')[0].strip() for field in data[7].split(',')[1:]]\n",
    "        elif len(fields) != nfields:\n",
    "                print('Mismatched number of fields')\n",
    "                return 1\n",
    "            \n",
    "        data = data[8:]\n",
    "        data = np.array([np.array(line.split(',')).astype(float) for line in data])\n",
    "\n",
    "        output = {field:np.array(data[:,j]) for field, j in zip(fields, np.arange(1,1+nfields))}\n",
    "\n",
    "        return output    \n",
    "\n",
    "    if nsweeps == 1:\n",
    "        #nfields = len(data[7].split(',')[2:])\n",
    "        \n",
    "        if fields==[]:\n",
    "            fields = [field.split('(')[0].strip() for field in data[7].split(',')[2:]]\n",
    "        elif len(fields) != nfields:\n",
    "                print('Mismatched number of fields')\n",
    "                return 1\n",
    "            \n",
    "        data = data[8:]\n",
    "        data = np.array([np.array(line.split(',')).astype(float) for line in data])\n",
    "\n",
    "        i=0\n",
    "        while data[i,0] == data[0,0]:\n",
    "            i += 1\n",
    "\n",
    "        arrsize = i\n",
    "        numparams = int(data.shape[0]/arrsize)\n",
    "\n",
    "        if params == []:\n",
    "            params = [data[arrsize*i,0] for i in np.arange(numparams)]\n",
    "        elif len(params)!=numparams:\n",
    "            print('Mismatched number of parameters')\n",
    "            return 1\n",
    "\n",
    "        output = {}\n",
    "\n",
    "        for i in np.arange(0,numparams):\n",
    "            output[params[i]] = {field:np.array(data[i*arrsize:arrsize*(i+1),j]) for field, j in zip(fields, np.arange(2,2+nfields))}\n",
    "\n",
    "        return output\n",
    "    \n",
    "    if nsweeps == 2:\n",
    "        #nfields = len(data[7].split(',')[3:])\n",
    "        \n",
    "        if fields==[]:\n",
    "            fields = [field.split('(')[0].strip() for field in data[7].split(',')[3:]]\n",
    "        elif len(fields) != nfields:\n",
    "                print('Mismatched number of fields')\n",
    "                return 1\n",
    "            \n",
    "        data = data[8:]\n",
    "        data = np.array([np.array(line.split(',')).astype(float) for line in data])\n",
    "\n",
    "        i=0\n",
    "        while data[i,0] == data[0,0]:\n",
    "            i += 1\n",
    "\n",
    "        arrsize1 = i\n",
    "        numparams1 = int(data.shape[0]/arrsize1)\n",
    "\n",
    "        i=0\n",
    "        while data[i,1] == data[0,1]:\n",
    "            i += 1\n",
    "\n",
    "        arrsize2 = i\n",
    "        numparams2 = int(arrsize1/arrsize2)\n",
    "\n",
    "        if params == []:\n",
    "            params = [data[arrsize1*i,0] for i in np.arange(numparams1)]\n",
    "        elif len(params)!=numparams1:\n",
    "            print('Mismatched number of parameters')\n",
    "            return 1\n",
    "\n",
    "        if params2 == []:\n",
    "            params2 = [data[arrsize2*i,1] for i in np.arange(numparams2)]\n",
    "        elif len(params2)!=numparams2:\n",
    "            print('Mismatched number of parameters')\n",
    "            return 1\n",
    "        \n",
    "        output = {}\n",
    "\n",
    "        for i in np.arange(numparams1):\n",
    "            output[params[i]] = {}\n",
    "            for i2 in np.arange(numparams2):\n",
    "                output[params[i]][params2[i2]] = {field:np.array(data[i*arrsize1+i2*arrsize2:i*arrsize1+arrsize2*(i2+1),j]) for field, j in zip(fields, np.arange(3,3+nfields))}\n",
    "                \n",
    "        return output"
   ]
  },
  {
   "cell_type": "code",
   "execution_count": 86,
   "id": "5f145a55",
   "metadata": {},
   "outputs": [],
   "source": [
    "filename = 'nosweep.csv'\n",
    "#filename = 'eis_void_3widths.csv'\n",
    "#filename = 'eis_void_cell_geom_vary_depth.csv'\n",
    "fields = ['freq','phase','im','re']\n",
    "params = ['s','m','l']\n",
    "\n",
    "data = comsoltopy(filename,fields=fields)"
   ]
  },
  {
   "cell_type": "code",
   "execution_count": 85,
   "id": "0f5be2e7",
   "metadata": {},
   "outputs": [
    {
     "data": {
      "text/plain": [
       "array([1.00000000e-02, 1.12201845e-02, 1.25892541e-02, 1.41253754e-02,\n",
       "       1.58489319e-02, 1.77827941e-02, 1.99526231e-02, 2.23872114e-02,\n",
       "       2.51188643e-02, 2.81838293e-02, 3.16227766e-02, 3.54813389e-02,\n",
       "       3.98107171e-02, 4.46683592e-02, 5.01187234e-02, 5.62341325e-02,\n",
       "       6.30957344e-02, 7.07945784e-02, 7.94328235e-02, 8.91250938e-02,\n",
       "       1.00000000e-01, 1.12201845e-01, 1.25892541e-01, 1.41253754e-01,\n",
       "       1.58489319e-01, 1.77827941e-01, 1.99526231e-01, 2.23872114e-01,\n",
       "       2.51188643e-01, 2.81838293e-01, 3.16227766e-01, 3.54813389e-01,\n",
       "       3.98107171e-01, 4.46683592e-01, 5.01187234e-01, 5.62341325e-01,\n",
       "       6.30957344e-01, 7.07945784e-01, 7.94328235e-01, 8.91250938e-01,\n",
       "       1.00000000e+00, 1.12201845e+00, 1.25892541e+00, 1.41253754e+00,\n",
       "       1.58489319e+00, 1.77827941e+00, 1.99526231e+00, 2.23872114e+00,\n",
       "       2.51188643e+00, 2.81838293e+00, 3.16227766e+00, 3.54813389e+00,\n",
       "       3.98107171e+00, 4.46683592e+00, 5.01187234e+00, 5.62341325e+00,\n",
       "       6.30957344e+00, 7.07945784e+00, 7.94328235e+00, 8.91250938e+00,\n",
       "       1.00000000e+01, 1.12201845e+01, 1.25892541e+01, 1.41253754e+01,\n",
       "       1.58489319e+01, 1.77827941e+01, 1.99526231e+01, 2.23872114e+01,\n",
       "       2.51188643e+01, 2.81838293e+01, 3.16227766e+01, 3.54813389e+01,\n",
       "       3.98107171e+01, 4.46683592e+01, 5.01187234e+01, 5.62341325e+01,\n",
       "       6.30957344e+01, 7.07945784e+01, 7.94328235e+01, 8.91250938e+01,\n",
       "       1.00000000e+02, 1.12201845e+02, 1.25892541e+02, 1.41253754e+02,\n",
       "       1.58489319e+02, 1.77827941e+02, 1.99526231e+02, 2.23872114e+02,\n",
       "       2.51188643e+02, 2.81838293e+02, 3.16227766e+02, 3.54813389e+02,\n",
       "       3.98107171e+02, 4.46683592e+02, 5.01187234e+02, 5.62341325e+02,\n",
       "       6.30957344e+02, 7.07945784e+02, 7.94328235e+02, 8.91250938e+02,\n",
       "       1.00000000e+03, 1.12201845e+03, 1.25892541e+03, 1.41253754e+03,\n",
       "       1.58489319e+03, 1.77827941e+03, 1.99526231e+03, 2.23872114e+03,\n",
       "       2.51188643e+03, 2.81838293e+03, 3.16227766e+03, 3.54813389e+03,\n",
       "       3.98107171e+03, 4.46683592e+03, 5.01187234e+03, 5.62341325e+03,\n",
       "       6.30957344e+03, 7.07945784e+03, 7.94328235e+03, 8.91250938e+03,\n",
       "       1.00000000e+04, 1.12201845e+04, 1.25892541e+04, 1.41253754e+04,\n",
       "       1.58489319e+04, 1.77827941e+04, 1.99526231e+04, 2.23872114e+04,\n",
       "       2.51188643e+04, 2.81838293e+04, 3.16227766e+04, 3.54813389e+04,\n",
       "       3.98107171e+04, 4.46683592e+04, 5.01187234e+04, 5.62341325e+04,\n",
       "       6.30957344e+04, 7.07945784e+04, 7.94328235e+04, 8.91250938e+04,\n",
       "       1.00000000e+05, 1.12201845e+05, 1.25892541e+05, 1.41253754e+05,\n",
       "       1.58489319e+05, 1.77827941e+05, 1.99526231e+05, 2.23872114e+05,\n",
       "       2.51188643e+05, 2.81838293e+05, 3.16227766e+05, 3.54813389e+05,\n",
       "       3.98107171e+05, 4.46683592e+05, 5.01187234e+05, 5.62341325e+05,\n",
       "       6.30957344e+05, 7.07945784e+05, 7.94328235e+05, 8.91250938e+05,\n",
       "       1.00000000e+06, 1.12201845e+06, 1.25892541e+06, 1.41253754e+06,\n",
       "       1.58489319e+06, 1.77827941e+06, 1.99526231e+06, 2.23872114e+06,\n",
       "       2.51188643e+06, 2.81838293e+06, 3.16227766e+06, 3.54813389e+06,\n",
       "       3.98107171e+06, 4.46683592e+06, 5.01187234e+06, 5.62341325e+06,\n",
       "       6.30957344e+06, 7.07945784e+06, 7.94328235e+06, 8.91250938e+06,\n",
       "       1.00000000e+07, 1.12201845e+07, 1.25892541e+07, 1.41253754e+07,\n",
       "       1.58489319e+07, 1.77827941e+07, 1.99526231e+07, 2.23872114e+07,\n",
       "       2.51188643e+07, 2.81838293e+07, 3.16227766e+07, 3.54813389e+07,\n",
       "       3.98107171e+07, 4.46683592e+07, 5.01187234e+07, 5.62341325e+07,\n",
       "       6.30957344e+07, 7.07945784e+07, 7.94328235e+07, 8.91250938e+07,\n",
       "       1.00000000e+08])"
      ]
     },
     "execution_count": 85,
     "metadata": {},
     "output_type": "execute_result"
    }
   ],
   "source": [
    "data[list(data.keys())[0]]['freq']"
   ]
  },
  {
   "cell_type": "code",
   "execution_count": 72,
   "id": "9e7d22ad",
   "metadata": {},
   "outputs": [
    {
     "data": {
      "text/plain": [
       "1"
      ]
     },
     "execution_count": 72,
     "metadata": {},
     "output_type": "execute_result"
    }
   ],
   "source": [
    "with open(os.path.join(os.getcwd(),filename)) as f:\n",
    "        data = f.readlines()\n",
    "\n",
    "len(data[7].split(',')) - int(data[5].split(',')[1].strip('\\n')) - 1"
   ]
  },
  {
   "cell_type": "code",
   "execution_count": 84,
   "id": "4a672a68",
   "metadata": {},
   "outputs": [
    {
     "data": {
      "text/plain": [
       "[0.3162, 0.8, 0.9055]"
      ]
     },
     "execution_count": 84,
     "metadata": {},
     "output_type": "execute_result"
    }
   ],
   "source": [
    "list(data.keys())"
   ]
  },
  {
   "cell_type": "code",
   "execution_count": null,
   "id": "f6a487f2",
   "metadata": {},
   "outputs": [],
   "source": []
  }
 ],
 "metadata": {
  "kernelspec": {
   "display_name": "Python 3",
   "language": "python",
   "name": "python3"
  },
  "language_info": {
   "codemirror_mode": {
    "name": "ipython",
    "version": 3
   },
   "file_extension": ".py",
   "mimetype": "text/x-python",
   "name": "python",
   "nbconvert_exporter": "python",
   "pygments_lexer": "ipython3",
   "version": "3.9.6"
  }
 },
 "nbformat": 4,
 "nbformat_minor": 5
}
